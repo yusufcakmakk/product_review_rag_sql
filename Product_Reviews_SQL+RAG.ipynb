{
  "cells": [
    {
      "cell_type": "code",
      "execution_count": null,
      "metadata": {
        "colab": {
          "base_uri": "https://localhost:8080/"
        },
        "id": "cfmBEe4ITTS1",
        "outputId": "6ff73511-e254-4498-9a88-f1a37f7a6808"
      },
      "outputs": [],
      "source": [
        "# pip install llama-index\n",
        "# pip install --upgrade pydantic==1.10.0 typing-extensions==4.5.0"
      ]
    },
    {
      "cell_type": "markdown",
      "metadata": {
        "id": "kngfWq2LHeBo"
      },
      "source": [
        "# Problem Statement\n",
        "\n",
        "#### We want to perform RAG on the retrieved results from SQL DB."
      ]
    },
    {
      "cell_type": "code",
      "execution_count": 1,
      "metadata": {
        "id": "9iD0UWIvT1CA"
      },
      "outputs": [],
      "source": [
        "from sqlalchemy import (\n",
        "    create_engine,\n",
        "    text,\n",
        ")\n",
        "\n",
        "import pandas as pd\n",
        "from llama_index.indices.struct_store.sql_query import NLSQLTableQueryEngine\n",
        "from llama_index import Document, ListIndex\n",
        "from llama_index import SQLDatabase, ServiceContext\n",
        "from llama_index.llms import ChatMessage, OpenAI\n",
        "from typing import List\n",
        "import ast\n",
        "import openai\n",
        "from IPython.display import display, HTML"
      ]
    },
    {
      "cell_type": "markdown",
      "metadata": {},
      "source": [
        "# Use existing product reviews"
      ]
    },
    {
      "cell_type": "code",
      "execution_count": 2,
      "metadata": {},
      "outputs": [],
      "source": [
        "engine = create_engine(\"sqlite:///TrendyolProduct.sqlite3\")\n",
        "\n",
        "sql_database = SQLDatabase(engine, include_tables=[\"TBL_Product\", \"TBL_Comment\"])\n",
        "conn = sql_database.engine.connect()"
      ]
    },
    {
      "cell_type": "code",
      "execution_count": 3,
      "metadata": {},
      "outputs": [
        {
          "name": "stdout",
          "output_type": "stream",
          "text": [
            "<class 'pandas.core.frame.DataFrame'>\n",
            "RangeIndex: 4109 entries, 0 to 4108\n",
            "Data columns (total 4 columns):\n",
            " #   Column         Non-Null Count  Dtype \n",
            "---  ------         --------------  ----- \n",
            " 0   Product_Id     4109 non-null   int64 \n",
            " 1   Product_Name   4109 non-null   object\n",
            " 2   Product_Brand  4109 non-null   object\n",
            " 3   Product_Link   4109 non-null   object\n",
            "dtypes: int64(1), object(3)\n",
            "memory usage: 128.5+ KB\n"
          ]
        }
      ],
      "source": [
        "with engine.begin() as conn:\n",
        "    query = text(\"\"\"SELECT * FROM TBL_Product\"\"\")\n",
        "    df_product = pd.read_sql_query(query, conn)\n",
        "df_product.info()"
      ]
    },
    {
      "cell_type": "code",
      "execution_count": 4,
      "metadata": {},
      "outputs": [
        {
          "name": "stdout",
          "output_type": "stream",
          "text": [
            "<class 'pandas.core.frame.DataFrame'>\n",
            "RangeIndex: 43923 entries, 0 to 43922\n",
            "Data columns (total 4 columns):\n",
            " #   Column              Non-Null Count  Dtype \n",
            "---  ------              --------------  ----- \n",
            " 0   Comment_Id          43923 non-null  int64 \n",
            " 1   Product_Id          43923 non-null  int64 \n",
            " 2   Comment_Content     43923 non-null  object\n",
            " 3   Comment_Evaluation  43923 non-null  int64 \n",
            "dtypes: int64(3), object(1)\n",
            "memory usage: 1.3+ MB\n"
          ]
        }
      ],
      "source": [
        "with engine.begin() as conn:\n",
        "    query = text(\"\"\"SELECT * FROM TBL_Comment\"\"\")\n",
        "    df_comment = pd.read_sql_query(query, conn)\n",
        "df_comment.info()"
      ]
    },
    {
      "cell_type": "code",
      "execution_count": 5,
      "metadata": {},
      "outputs": [
        {
          "data": {
            "text/html": [
              "<div>\n",
              "<style scoped>\n",
              "    .dataframe tbody tr th:only-of-type {\n",
              "        vertical-align: middle;\n",
              "    }\n",
              "\n",
              "    .dataframe tbody tr th {\n",
              "        vertical-align: top;\n",
              "    }\n",
              "\n",
              "    .dataframe thead th {\n",
              "        text-align: right;\n",
              "    }\n",
              "</style>\n",
              "<table border=\"1\" class=\"dataframe\">\n",
              "  <thead>\n",
              "    <tr style=\"text-align: right;\">\n",
              "      <th></th>\n",
              "      <th>Product_Id</th>\n",
              "      <th>Product_Name</th>\n",
              "      <th>Product_Brand</th>\n",
              "      <th>Product_Link</th>\n",
              "      <th>Comment_Id</th>\n",
              "      <th>Comment_Content</th>\n",
              "      <th>Comment_Evaluation</th>\n",
              "    </tr>\n",
              "  </thead>\n",
              "  <tbody>\n",
              "    <tr>\n",
              "      <th>0</th>\n",
              "      <td>1</td>\n",
              "      <td>Erkek %100 Pamuk Koyu Vizon Polo Yaka Düz T-sh...</td>\n",
              "      <td>Avva</td>\n",
              "      <td>https://www.trendyol.com/avva/erkek-100-pamuk-...</td>\n",
              "      <td>1</td>\n",
              "      <td>Babam için almıştım aşırııı güzell</td>\n",
              "      <td>5</td>\n",
              "    </tr>\n",
              "    <tr>\n",
              "      <th>1</th>\n",
              "      <td>1</td>\n",
              "      <td>Erkek %100 Pamuk Koyu Vizon Polo Yaka Düz T-sh...</td>\n",
              "      <td>Avva</td>\n",
              "      <td>https://www.trendyol.com/avva/erkek-100-pamuk-...</td>\n",
              "      <td>2</td>\n",
              "      <td>Dokusu çok güzel kalitesi çok iyi</td>\n",
              "      <td>5</td>\n",
              "    </tr>\n",
              "    <tr>\n",
              "      <th>2</th>\n",
              "      <td>1</td>\n",
              "      <td>Erkek %100 Pamuk Koyu Vizon Polo Yaka Düz T-sh...</td>\n",
              "      <td>Avva</td>\n",
              "      <td>https://www.trendyol.com/avva/erkek-100-pamuk-...</td>\n",
              "      <td>3</td>\n",
              "      <td>renk ve kalite çok güzel AVVA sonuçta indirimd...</td>\n",
              "      <td>5</td>\n",
              "    </tr>\n",
              "    <tr>\n",
              "      <th>3</th>\n",
              "      <td>1</td>\n",
              "      <td>Erkek %100 Pamuk Koyu Vizon Polo Yaka Düz T-sh...</td>\n",
              "      <td>Avva</td>\n",
              "      <td>https://www.trendyol.com/avva/erkek-100-pamuk-...</td>\n",
              "      <td>4</td>\n",
              "      <td>Çok beğendim güzel</td>\n",
              "      <td>5</td>\n",
              "    </tr>\n",
              "    <tr>\n",
              "      <th>4</th>\n",
              "      <td>1</td>\n",
              "      <td>Erkek %100 Pamuk Koyu Vizon Polo Yaka Düz T-sh...</td>\n",
              "      <td>Avva</td>\n",
              "      <td>https://www.trendyol.com/avva/erkek-100-pamuk-...</td>\n",
              "      <td>5</td>\n",
              "      <td>Güzel tişört</td>\n",
              "      <td>5</td>\n",
              "    </tr>\n",
              "  </tbody>\n",
              "</table>\n",
              "</div>"
            ],
            "text/plain": [
              "   Product_Id                                       Product_Name  \\\n",
              "0           1  Erkek %100 Pamuk Koyu Vizon Polo Yaka Düz T-sh...   \n",
              "1           1  Erkek %100 Pamuk Koyu Vizon Polo Yaka Düz T-sh...   \n",
              "2           1  Erkek %100 Pamuk Koyu Vizon Polo Yaka Düz T-sh...   \n",
              "3           1  Erkek %100 Pamuk Koyu Vizon Polo Yaka Düz T-sh...   \n",
              "4           1  Erkek %100 Pamuk Koyu Vizon Polo Yaka Düz T-sh...   \n",
              "\n",
              "  Product_Brand                                       Product_Link  \\\n",
              "0          Avva  https://www.trendyol.com/avva/erkek-100-pamuk-...   \n",
              "1          Avva  https://www.trendyol.com/avva/erkek-100-pamuk-...   \n",
              "2          Avva  https://www.trendyol.com/avva/erkek-100-pamuk-...   \n",
              "3          Avva  https://www.trendyol.com/avva/erkek-100-pamuk-...   \n",
              "4          Avva  https://www.trendyol.com/avva/erkek-100-pamuk-...   \n",
              "\n",
              "   Comment_Id                                    Comment_Content  \\\n",
              "0           1                 Babam için almıştım aşırııı güzell   \n",
              "1           2                  Dokusu çok güzel kalitesi çok iyi   \n",
              "2           3  renk ve kalite çok güzel AVVA sonuçta indirimd...   \n",
              "3           4                                 Çok beğendim güzel   \n",
              "4           5                                       Güzel tişört   \n",
              "\n",
              "   Comment_Evaluation  \n",
              "0                   5  \n",
              "1                   5  \n",
              "2                   5  \n",
              "3                   5  \n",
              "4                   5  "
            ]
          },
          "execution_count": 5,
          "metadata": {},
          "output_type": "execute_result"
        }
      ],
      "source": [
        "df_merge = pd.merge(df_product, df_comment, on=\"Product_Id\")\n",
        "df_merge.head()"
      ]
    },
    {
      "cell_type": "code",
      "execution_count": 18,
      "metadata": {},
      "outputs": [
        {
          "data": {
            "text/plain": [
              "Koton           11576\n",
              "Mavi            11350\n",
              "Defacto          8679\n",
              "US Polo Assn     4149\n",
              "Avva             3181\n",
              "Suwen            2426\n",
              "HUMMEL            912\n",
              "Nike              515\n",
              "Colin’s           287\n",
              "adidas            255\n",
              "Puma              236\n",
              "Tudors            210\n",
              "Derimod            56\n",
              "Loft               55\n",
              "LC Waikiki         36\n",
              "Name: Product_Brand, dtype: int64"
            ]
          },
          "execution_count": 18,
          "metadata": {},
          "output_type": "execute_result"
        }
      ],
      "source": [
        "df_merge.Product_Brand.value_counts()"
      ]
    },
    {
      "cell_type": "markdown",
      "metadata": {
        "id": "oBBNA_8pp5Tm"
      },
      "source": [
        "# SQL + RAG\n",
        "\n",
        "**Three-Step Process to Answer Complex Questions using SQL and List Indexing:**\n",
        "\n",
        "1. **Decomposition of the Question:**\n",
        "\n",
        "*   **Primary Query Formation:** Phrase the main question in natural language suitable for extracting preliminary data from the SQL table.\n",
        "*   **Secondary Query Formation:** Formulate an auxiliary question that operates on the results of the primary query. This will guide the final extraction\n",
        "\n",
        "2. **Data Retrieval:** Execute the primary SQL query to gather the initial set of results.\n",
        "\n",
        "3. **Final Answer Generation:** Utilize List Index to refine or interpret the results based on the secondary question, leading to the final desired answer."
      ]
    },
    {
      "cell_type": "markdown",
      "metadata": {
        "id": "yRnNkiWeE28y"
      },
      "source": [
        "# Decomposition of the Question"
      ]
    },
    {
      "cell_type": "code",
      "execution_count": 6,
      "metadata": {
        "colab": {
          "base_uri": "https://localhost:8080/"
        },
        "id": "lOdhJmqtIX1l",
        "outputId": "f96135fb-ec9a-494a-8052-450a78b5ba53"
      },
      "outputs": [],
      "source": [
        "# set llm\n",
        "openai.api_key = 'sk-...'\n",
        "\n",
        "llm = OpenAI(temperature=0, model=\"gpt-3.5-turbo\")\n",
        "service_context = ServiceContext.from_defaults(llm=llm)"
      ]
    },
    {
      "cell_type": "code",
      "execution_count": 7,
      "metadata": {
        "id": "M6BA0HAbA5um"
      },
      "outputs": [],
      "source": [
        "def generate_questions(user_query: str) -> List[str]:\n",
        "  system_message = '''\n",
        "  Sen Türkçe dilinde geliştirildin ve verdiğin cevaplar Türkçe olmalı. Sana aşağıdaki sütunları içeren Sqlite tablosu verilmektedir.\n",
        "\n",
        "   Product_Name, Product_Brand, Comment_Content, Comment_Evaluation.\n",
        "\n",
        "   Görevin verilen soruyu aşağıdaki iki soruya ayrıştırmaktır.\n",
        "\n",
        "   1. Tablodan sonuç almak için sorulması gereken doğal dilde soru.\n",
        "   2. Son cevabın sağlanması için ilk sorudan çıkan sonuca istinaden sorulması gereken soru.\n",
        "\n",
        "   Örnek:\n",
        "\n",
        "   Girdi:\n",
        "   Nüfusu 5000000'den fazla olan ülkelerin kültürü nasıldır?\n",
        "\n",
        "   Çıktı:\n",
        "   1. Nüfusu 5000000'den fazla olan ülkelerin yorumlarını alın\n",
        "   2. Ülkelerin kültürünü sağlayın\n",
        "  '''\n",
        "\n",
        "  messages = [\n",
        "      ChatMessage(role=\"system\", content=system_message),\n",
        "      ChatMessage(role=\"user\", content=user_query),\n",
        "  ]\n",
        "  generated_questions = llm.chat(messages).message.content.split('\\n')\n",
        "\n",
        "  return generated_questions"
      ]
    },
    {
      "cell_type": "code",
      "execution_count": 8,
      "metadata": {
        "id": "UCTY3MZOCfc3"
      },
      "outputs": [
        {
          "name": "stdout",
          "output_type": "stream",
          "text": [
            "1. Markası Avva olan ürünlerin yorumlarını alın.\n",
            "**************************************************\n",
            "2. Yorumların nasıl olduğunu sağlayın.\n"
          ]
        }
      ],
      "source": [
        "user_query = \"Markası Avva olan ürünlerin yorumları nasıldır?\"\n",
        "\n",
        "text_to_sql_query, rag_query = generate_questions(user_query)\n",
        "print(text_to_sql_query)\n",
        "print(\"*\"*50)\n",
        "print(rag_query)"
      ]
    },
    {
      "cell_type": "markdown",
      "metadata": {
        "id": "MRLW7YPrE-IT"
      },
      "source": [
        "# Execute the primary SQL query to gather the initial set of results."
      ]
    },
    {
      "cell_type": "code",
      "execution_count": 9,
      "metadata": {
        "id": "KUTTbnIvUZmf"
      },
      "outputs": [],
      "source": [
        "# Create SQL Query Engine\n",
        "sql_query_engine = NLSQLTableQueryEngine(\n",
        "    sql_database=sql_database,\n",
        "    tables=[\"TBL_Product\", \"TBL_Comment\"],\n",
        "    synthesize_response = False,\n",
        "    service_context = service_context\n",
        ")"
      ]
    },
    {
      "cell_type": "code",
      "execution_count": 10,
      "metadata": {},
      "outputs": [],
      "source": [
        "import random"
      ]
    },
    {
      "cell_type": "code",
      "execution_count": 11,
      "metadata": {
        "id": "vDepmBWAbe7w"
      },
      "outputs": [],
      "source": [
        "sql_response = sql_query_engine.query(text_to_sql_query)\n",
        "\n",
        "sql_response_list = ast.literal_eval(sql_response.response)\n",
        "\n",
        "# shuffle the list\n",
        "random.shuffle(sql_response_list)\n",
        "\n",
        "text = [' '.join(t) for t in sql_response_list[:20]] # get first 20 rows\n",
        "text = '\\n'.join(text)"
      ]
    },
    {
      "cell_type": "code",
      "execution_count": 12,
      "metadata": {},
      "outputs": [
        {
          "name": "stdout",
          "output_type": "stream",
          "text": [
            "avva kaliteai\n",
            "Ürün çok güzel ama bir yıldızı geç gelmesinden dolayı kırdım sipariş verdikten 1 hafta sonra geldi neredeyse\n",
            "5te5 bir ürün\n",
            "Ürün için pamuklu deniyor fakat naylon gibi daha çok.\n",
            "siyahinida aldım gayet guzel\n",
            "kaliteli...\n",
            "Çok güzel bir ürün kumaşı duruşu yani herşeyi çok ama çok güzel kesinlikle alınmalı\n",
            "HARİKA, HAYATIMA BİR PANTOLON OLARAK DEVAM ETSEM KESINLIKLE BU PANTOLON OLURDUM. DÜŞÜNMEDEN ALIN TÜM RENKLERİNİ SİPARİŞ VERİYORUM.\n",
            "begendim, güzel.\n",
            "bel olarak bedenime uygun bacak kısımlarında terzide işlem yaptırıp daralttirdim\n",
            "Beğenerek kullanıyor babam\n",
            "tam yazlık çok güzel\n",
            "İndirimde aldık çok kaliteli\n",
            "Eşim çok beğendi\n",
            "l beden normal boyuttan büyük ona göre alın\n",
            "Çok güzel pantolon 90 kg 33 beden tam oturdu, 1 tane daha sipariş verme fikri aklım çık lütfen\n",
            "çok şık ve kaliteli\n",
            "Kardeşim 180 boya 76 kilo ve 33 beden aldık tam oldu. Pantolon çok kaliteli kesinlikle alın\n",
            "Sözelci Anne ♥️ tavsiyesi ile eşime aldım, indirimi haber verdiği için çok teşekkür ederim. Ürün çok güzel ve kaliteli, tavsiye ederim.\n",
            "Guzel tisort kullanisli\n"
          ]
        }
      ],
      "source": [
        "print(text)"
      ]
    },
    {
      "cell_type": "code",
      "execution_count": 13,
      "metadata": {
        "colab": {
          "base_uri": "https://localhost:8080/",
          "height": 54
        },
        "id": "OYTTtK4JohE8",
        "outputId": "1798dfb9-929e-4e79-d43a-1a725a3e90b0"
      },
      "outputs": [
        {
          "data": {
            "text/html": [
              "<p style=\"font-size:20px\">SELECT Comment_Content\n",
              "FROM TBL_Comment\n",
              "JOIN TBL_Product ON TBL_Comment.Product_Id = TBL_Product.Product_Id\n",
              "WHERE TBL_Product.Product_Brand = 'Avva'</p>"
            ],
            "text/plain": [
              "<IPython.core.display.HTML object>"
            ]
          },
          "metadata": {},
          "output_type": "display_data"
        }
      ],
      "source": [
        "# Generated SQL Query\n",
        "display(HTML(f'<p style=\"font-size:20px\">{sql_response.metadata[\"sql_query\"]}</p>'))"
      ]
    },
    {
      "cell_type": "markdown",
      "metadata": {
        "id": "8v17lFZwFFFQ"
      },
      "source": [
        "# List Index to refine or interpret the results based on the secondary question"
      ]
    },
    {
      "cell_type": "code",
      "execution_count": 14,
      "metadata": {
        "id": "qvky0Kh8VCeD"
      },
      "outputs": [],
      "source": [
        "listindex = ListIndex([Document(text=text)])\n",
        "list_query_engine = listindex.as_query_engine()"
      ]
    },
    {
      "cell_type": "code",
      "execution_count": 15,
      "metadata": {
        "id": "fPiaDI8vFbQL"
      },
      "outputs": [],
      "source": [
        "summary = list_query_engine.query(rag_query)"
      ]
    },
    {
      "cell_type": "code",
      "execution_count": 16,
      "metadata": {
        "colab": {
          "base_uri": "https://localhost:8080/",
          "height": 178
        },
        "id": "f4XAJneobKwh",
        "outputId": "f8292e82-8fc4-4c40-be7c-e9736f1c969c"
      },
      "outputs": [
        {
          "data": {
            "text/html": [
              "<p style=\"font-size:20px\">Yorumlar genel olarak ürünün güzel, kaliteli ve beğenildiği şeklinde. Bazı yorumlarda ürünün geç gelmesi veya kumaşının beklentileri karşılamaması gibi olumsuzluklar da belirtilmiş. Ancak çoğunlukla olumlu yorumlar olduğu görülüyor.</p>"
            ],
            "text/plain": [
              "<IPython.core.display.HTML object>"
            ]
          },
          "metadata": {},
          "output_type": "display_data"
        }
      ],
      "source": [
        "# Final answer\n",
        "display(HTML(f'<p style=\"font-size:20px\">{summary.response}</p>'))"
      ]
    },
    {
      "cell_type": "markdown",
      "metadata": {
        "id": "NygkzTwlsFnM"
      },
      "source": [
        "# Now let's wrap everything under a function."
      ]
    },
    {
      "cell_type": "code",
      "execution_count": 24,
      "metadata": {
        "id": "XLMRL_iiHXsP"
      },
      "outputs": [],
      "source": [
        "def sql_rag(user_query: str) -> str:\n",
        "  text_to_sql_query, rag_query = generate_questions(user_query)\n",
        "  print(text_to_sql_query)\n",
        "  print(\"*\"*50)\n",
        "  print(rag_query)\n",
        "\n",
        "  sql_response = sql_query_engine.query(text_to_sql_query)\n",
        "\n",
        "  print(sql_response.metadata[\"sql_query\"])\n",
        "  \n",
        "\n",
        "  # shuffle the list\n",
        "  random.shuffle(sql_response_list)\n",
        "\n",
        "  text = [' '.join(t) for t in sql_response_list[:50]] # get first 50 rows\n",
        "  text = '\\n'.join(text)\n",
        "\n",
        "  listindex = ListIndex([Document(text=text)])\n",
        "  list_query_engine = listindex.as_query_engine()\n",
        "\n",
        "  summary = list_query_engine.query(rag_query)\n",
        "\n",
        "  return summary.response"
      ]
    },
    {
      "cell_type": "markdown",
      "metadata": {
        "id": "3wwKVHn6smK-"
      },
      "source": [
        "# Let's try out few examples."
      ]
    },
    {
      "cell_type": "code",
      "execution_count": 30,
      "metadata": {
        "colab": {
          "base_uri": "https://localhost:8080/",
          "height": 87
        },
        "id": "zPAs_GSfsjGY",
        "outputId": "1495640c-e5c3-4462-9160-b2b65cc93198"
      },
      "outputs": [
        {
          "name": "stdout",
          "output_type": "stream",
          "text": [
            "1. 'Nike' marka ürünlere ait yorumları alın.\n",
            "**************************************************\n",
            "2. Ayakkabı rahatlığı hakkında yorumları sağlayın.\n",
            "SELECT Comment_Content \n",
            "FROM TBL_Comment \n",
            "JOIN TBL_Product ON TBL_Comment.Product_Id = TBL_Product.Product_Id \n",
            "WHERE TBL_Product.Product_Brand = 'Nike'\n"
          ]
        },
        {
          "data": {
            "text/plain": [
              "'Çok güzel ve kaliteli bir ürün.'"
            ]
          },
          "execution_count": 30,
          "metadata": {},
          "output_type": "execute_result"
        }
      ],
      "source": [
        "sql_rag(\"'Nike' marka yorumlarırnda, ayakkabı rahatlığı nasıl?\")"
      ]
    },
    {
      "cell_type": "code",
      "execution_count": 28,
      "metadata": {
        "colab": {
          "base_uri": "https://localhost:8080/",
          "height": 35
        },
        "id": "Uo67vB6RtrNc",
        "outputId": "d845b2ad-3417-4871-df11-f3e13734cbf9"
      },
      "outputs": [
        {
          "name": "stdout",
          "output_type": "stream",
          "text": [
            "1. Koton ürünlerinin yorumlarını alın.\n",
            "**************************************************\n",
            "2. Koton ürünlerinin genel olarak nasıl değerlendirildiğini sağlayın.\n",
            "SELECT Comment_Content, Comment_Evaluation\n",
            "FROM TBL_Comment\n",
            "JOIN TBL_Product ON TBL_Comment.Product_Id = TBL_Product.Product_Id\n",
            "WHERE TBL_Product.Product_Brand = 'Koton'\n"
          ]
        },
        {
          "data": {
            "text/plain": [
              "'Koton ürünlerinin genel olarak olumlu değerlendirildiği görülmektedir. Müşteriler, ürünlerin kaliteli olduğunu ve güzel göründüğünü belirtmektedir. Ayrıca, ürünlerin rahat olduğu ve yazlık kullanıma uygun olduğu da vurgulanmaktadır. Ancak bazı müşteriler, ürünlerin beden konusunda dikkat edilmesi gerektiğini ve bazı durumlarda kesimin slim fit gibi olduğunu ifade etmektedir.'"
            ]
          },
          "execution_count": 28,
          "metadata": {},
          "output_type": "execute_result"
        }
      ],
      "source": [
        "sql_rag(\"'Koton' yorumlarını özetler misin?\")"
      ]
    },
    {
      "cell_type": "code",
      "execution_count": null,
      "metadata": {
        "id": "zPO9NRVpxzlu"
      },
      "outputs": [],
      "source": []
    }
  ],
  "metadata": {
    "colab": {
      "provenance": []
    },
    "kernelspec": {
      "display_name": "Python 3",
      "name": "python3"
    },
    "language_info": {
      "codemirror_mode": {
        "name": "ipython",
        "version": 3
      },
      "file_extension": ".py",
      "mimetype": "text/x-python",
      "name": "python",
      "nbconvert_exporter": "python",
      "pygments_lexer": "ipython3",
      "version": "3.9.7"
    }
  },
  "nbformat": 4,
  "nbformat_minor": 0
}
